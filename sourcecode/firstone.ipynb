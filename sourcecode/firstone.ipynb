{
 "cells": [
  {
   "cell_type": "code",
   "execution_count": null,
   "metadata": {},
   "outputs": [],
   "source": [
    "import os\n",
    "print(\"Hello World!\")\n",
    "%pip install pyspark\n"
   ]
  },
  {
   "cell_type": "code",
   "execution_count": 6,
   "metadata": {},
   "outputs": [
    {
     "name": "stderr",
     "output_type": "stream",
     "text": [
      "25/01/08 17:16:20 WARN SparkSession: Using an existing Spark session; only runtime SQL configurations will take effect.\n"
     ]
    }
   ],
   "source": [
    "import os\n",
    "from pyspark.sql import SparkSession\n",
    "\n",
    "\n",
    "# Set environment variables for PySpark\n",
    "os.environ['SPARK_HOME'] = '/usr/local/sdkman/candidates/spark/current'\n",
    "os.environ['PYSPARK_PYTHON'] = '/usr/local/python/current/bin/python3'\n",
    "os.environ['PYSPARK_DRIVER_PYTHON'] = '/usr/local/python/current/bin/python3'\n",
    "\n",
    "# Initialize Spark session\n",
    "spark = SparkSession.builder \\\n",
    "    .appName(\"Jupyter PySpark\") \\\n",
    "    .getOrCreate()\n",
    "\n",
    "# Verify Spark context\n",
    "spark\n",
    "spark.stop()"
   ]
  },
  {
   "cell_type": "code",
   "execution_count": null,
   "metadata": {},
   "outputs": [],
   "source": [
    "import os\n",
    "from pyspark.sql import SparkSession\n",
    "\n",
    "# Set environment variables for PySpark\n",
    "os.environ['SPARK_HOME'] = '/usr/local/sdkman/candidates/spark/current'\n",
    "os.environ['PYSPARK_PYTHON'] = '/usr/local/python/current/bin/python3'\n",
    "os.environ['PYSPARK_DRIVER_PYTHON'] = '/usr/local/python/current/bin/python3'\n",
    "\n",
    "# Create a Spark session\n",
    "sparkTwo = SparkSession.builder \\\n",
    "    .appName(\"MongoDBIntegration\") \\\n",
    "    .config(\"spark.jars.packages\", \"org.mongodb.spark:mongo-spark-connector_2.12:3.0.1\") \\\n",
    "    .config(\"spark.mongodb.read.connection.uri\", \"mongodb://root:example@db:27017/mongodbVSCodePlaygroundDB.sales\") \\\n",
    "    .config(\"spark.mongodb.write.connection.uri\", \"mongodb://root:example@db:27017/mongodbVSCodePlaygroundDB.sales\") \\\n",
    "    .getOrCreate()\n",
    "\n",
    "# Read data from MongoDB\n",
    "df = sparkTwo.read.format(\"mongo\").load()\n",
    "\n",
    "# Show the data\n",
    "#df.show()\n",
    "\n",
    "# Stop the Spark session\n",
    "sparkTwo.stop()"
   ]
  }
 ],
 "metadata": {
  "kernelspec": {
   "display_name": "Python 3",
   "language": "python",
   "name": "python3"
  },
  "language_info": {
   "codemirror_mode": {
    "name": "ipython",
    "version": 3
   },
   "file_extension": ".py",
   "mimetype": "text/x-python",
   "name": "python",
   "nbconvert_exporter": "python",
   "pygments_lexer": "ipython3",
   "version": "3.9.21"
  }
 },
 "nbformat": 4,
 "nbformat_minor": 2
}
